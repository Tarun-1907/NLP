{
  "cells": [
    {
      "cell_type": "code",
      "execution_count": 3,
      "metadata": {
        "colab": {
          "base_uri": "https://localhost:8080/"
        },
        "id": "5o2My8d7J1Yc",
        "outputId": "bb054144-d15b-4529-eb13-2b6326a2163d"
      },
      "outputs": [
        {
          "output_type": "stream",
          "name": "stdout",
          "text": [
            "MoviePy - Writing audio in output_audio.wav\n"
          ]
        },
        {
          "output_type": "stream",
          "name": "stderr",
          "text": [
            "                                                                      "
          ]
        },
        {
          "output_type": "stream",
          "name": "stdout",
          "text": [
            "MoviePy - Done.\n"
          ]
        },
        {
          "output_type": "stream",
          "name": "stderr",
          "text": [
            "\r"
          ]
        }
      ],
      "source": [
        "from moviepy.editor import VideoFileClip\n",
        "\n",
        "def extract_audio(video_file, audio_file):\n",
        "    video_clip = VideoFileClip(video_file)\n",
        "    audio_clip = video_clip.audio\n",
        "    audio_clip.write_audiofile(audio_file)\n",
        "    video_clip.close()\n",
        "\n",
        "video_file = \"/content/ivdd.mp4\"\n",
        "audio_file = \"output_audio.wav\"\n",
        "\n",
        "extract_audio(video_file, audio_file)"
      ]
    },
    {
      "cell_type": "code",
      "execution_count": 1,
      "metadata": {
        "colab": {
          "base_uri": "https://localhost:8080/"
        },
        "id": "KGNoUClC8qcV",
        "outputId": "7be272fc-f8ca-47c9-d8cf-4dd992363590"
      },
      "outputs": [
        {
          "output_type": "stream",
          "name": "stdout",
          "text": [
            "Requirement already satisfied: transformers in /usr/local/lib/python3.10/dist-packages (4.40.1)\n",
            "Requirement already satisfied: filelock in /usr/local/lib/python3.10/dist-packages (from transformers) (3.13.4)\n",
            "Requirement already satisfied: huggingface-hub<1.0,>=0.19.3 in /usr/local/lib/python3.10/dist-packages (from transformers) (0.20.3)\n",
            "Requirement already satisfied: numpy>=1.17 in /usr/local/lib/python3.10/dist-packages (from transformers) (1.25.2)\n",
            "Requirement already satisfied: packaging>=20.0 in /usr/local/lib/python3.10/dist-packages (from transformers) (24.0)\n",
            "Requirement already satisfied: pyyaml>=5.1 in /usr/local/lib/python3.10/dist-packages (from transformers) (6.0.1)\n",
            "Requirement already satisfied: regex!=2019.12.17 in /usr/local/lib/python3.10/dist-packages (from transformers) (2023.12.25)\n",
            "Requirement already satisfied: requests in /usr/local/lib/python3.10/dist-packages (from transformers) (2.31.0)\n",
            "Requirement already satisfied: tokenizers<0.20,>=0.19 in /usr/local/lib/python3.10/dist-packages (from transformers) (0.19.1)\n",
            "Requirement already satisfied: safetensors>=0.4.1 in /usr/local/lib/python3.10/dist-packages (from transformers) (0.4.3)\n",
            "Requirement already satisfied: tqdm>=4.27 in /usr/local/lib/python3.10/dist-packages (from transformers) (4.66.2)\n",
            "Requirement already satisfied: fsspec>=2023.5.0 in /usr/local/lib/python3.10/dist-packages (from huggingface-hub<1.0,>=0.19.3->transformers) (2023.6.0)\n",
            "Requirement already satisfied: typing-extensions>=3.7.4.3 in /usr/local/lib/python3.10/dist-packages (from huggingface-hub<1.0,>=0.19.3->transformers) (4.11.0)\n",
            "Requirement already satisfied: charset-normalizer<4,>=2 in /usr/local/lib/python3.10/dist-packages (from requests->transformers) (3.3.2)\n",
            "Requirement already satisfied: idna<4,>=2.5 in /usr/local/lib/python3.10/dist-packages (from requests->transformers) (3.7)\n",
            "Requirement already satisfied: urllib3<3,>=1.21.1 in /usr/local/lib/python3.10/dist-packages (from requests->transformers) (2.0.7)\n",
            "Requirement already satisfied: certifi>=2017.4.17 in /usr/local/lib/python3.10/dist-packages (from requests->transformers) (2024.2.2)\n"
          ]
        }
      ],
      "source": [
        "!pip install transformers\n",
        "from transformers import pipeline"
      ]
    },
    {
      "cell_type": "code",
      "execution_count": null,
      "metadata": {
        "id": "v5xcLQhK83KB"
      },
      "outputs": [],
      "source": [
        "speech_recognition = pipeline(\"automatic-speech-recognition\", model=\"openai/whisper-large-v3\")"
      ]
    },
    {
      "cell_type": "code",
      "execution_count": 4,
      "metadata": {
        "colab": {
          "base_uri": "https://localhost:8080/"
        },
        "id": "FWbJRu8H83Tu",
        "outputId": "7c203d2e-51e8-4c5d-8e75-b00c1f82fd71"
      },
      "outputs": [
        {
          "output_type": "stream",
          "name": "stderr",
          "text": [
            "Due to a bug fix in https://github.com/huggingface/transformers/pull/28687 transcription using a multilingual Whisper will default to language detection followed by transcription instead of translation to English.This might be a breaking change for your use case. If you want to instead always translate your audio to English, make sure to pass `language='en'`.\n"
          ]
        }
      ],
      "source": [
        "audio_path = \"/content/output_audio.wav\"\n",
        "with open(audio_path, \"rb\") as audio_file:\n",
        "    audio_bytes = audio_file.read()\n",
        "\n",
        "transcription = speech_recognition(audio_bytes)"
      ]
    },
    {
      "cell_type": "code",
      "execution_count": 5,
      "metadata": {
        "colab": {
          "base_uri": "https://localhost:8080/"
        },
        "id": "vQu6sjLb83Xr",
        "outputId": "420fe3fa-d7a4-4ce2-d7ad-bc7823db13dd"
      },
      "outputs": [
        {
          "output_type": "stream",
          "name": "stdout",
          "text": [
            "{'text': ' जितने रख दिए तो यह के अंदर जो पॉइंट है वह में आ जाएंगे और उसके बाद अब क्योंकि ऐप नई लिस्ट बन गई है मैं आप सोचो कि कैसे एक बेगेनर सोचेगा कैसे मैं यह बता रहा हूं ठीक है ज्यादा पर सही है गलत है बाद में बात करेंगे एम जो है इसी कोल टू एल हो जाएगा ऐसा कोई सोचेगा और फिर एम जी रोज इकल टू जीरो से वह सोचेगा कि एम वली लिस्ट में चेंज होगा और एल ऐसे कैसे रहेगी और एक्सपेक्ट करेगा कि यह चीज दुबारा जाएगी वो टू यॉर सप्राइस अब देखो और इस पर चेंज होगी तो यहां पर होता क्या है जब हम एम इस एकॉल टो एल करते हैं तो एम एल का ही एक रेफरेंस है ठीक है लिस्ट तो वही है मेमोरी में जो लिस्ट बनी है वह तो वही बनी है तो आप आप यहां पर एम इस एकॉल टो एल करोगे अगर तो और उसके बाद एम को चेंज करोगे तो एल भी चेंज हो जाएगी क्योंकि आपने एक रेफरेंस बना दिया और इस तरह की चीजें पाइथन प्रोग्राम में बिल्कुल भी recommend नहीं है, आप मत करो, until and unless you know what you are doing, अगर आप एक beginner हो, इस तरह से आप लोग एक नई list मत बनाओ, आप use करो copy function का, तो अगर मैं लिखो m is equal to l.copy, तो क्या करेगा, यह एक copy बना देगा list की, और अब वो चीज़ होगी जो आप expect कर रहे थे, कि,'}\n"
          ]
        }
      ],
      "source": [
        "print(transcription)"
      ]
    }
  ],
  "metadata": {
    "colab": {
      "gpuType": "T4",
      "provenance": []
    },
    "kernelspec": {
      "display_name": "Python 3",
      "name": "python3"
    },
    "language_info": {
      "name": "python"
    }
  },
  "nbformat": 4,
  "nbformat_minor": 0
}